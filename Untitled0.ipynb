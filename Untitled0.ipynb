{
  "nbformat": 4,
  "nbformat_minor": 0,
  "metadata": {
    "colab": {
      "provenance": [],
      "authorship_tag": "ABX9TyOiqumzKtK7UBWOQvlsmJYw",
      "include_colab_link": true
    },
    "kernelspec": {
      "name": "python3",
      "display_name": "Python 3"
    },
    "language_info": {
      "name": "python"
    }
  },
  "cells": [
    {
      "cell_type": "markdown",
      "metadata": {
        "id": "view-in-github",
        "colab_type": "text"
      },
      "source": [
        "<a href=\"https://colab.research.google.com/github/seohan01/dldudnjs/blob/main/Untitled0.ipynb\" target=\"_parent\"><img src=\"https://colab.research.google.com/assets/colab-badge.svg\" alt=\"Open In Colab\"/></a>"
      ]
    },
    {
      "cell_type": "code",
      "execution_count": null,
      "metadata": {
        "colab": {
          "base_uri": "https://localhost:8080/"
        },
        "id": "hqBrsg9-Ql8c",
        "outputId": "816cb083-2dd0-492d-eb40-e0930349aedd"
      },
      "outputs": [
        {
          "output_type": "stream",
          "name": "stdout",
          "text": [
            "\n",
            "다음 연산 중 하나를 선택하세요:\n",
            "1. 덧셈 (+)\n",
            "2. 뺄셈 (-)\n",
            "3. 곱셈 (*)\n",
            "4. 나눗셈 (/)\n",
            "5. 나머지 (%)\n",
            "6. 거듭제곱 (**)\n",
            "7. 종료\n",
            "선택 (1/2/3/4/5/6/7): 1\n",
            "첫 번째 숫자를 입력하세요: 1\n",
            "두 번째 숫자를 입력하세요: 2\n",
            "1.0 + 2.0 = 3.0\n",
            "\n",
            "다음 연산 중 하나를 선택하세요:\n",
            "1. 덧셈 (+)\n",
            "2. 뺄셈 (-)\n",
            "3. 곱셈 (*)\n",
            "4. 나눗셈 (/)\n",
            "5. 나머지 (%)\n",
            "6. 거듭제곱 (**)\n",
            "7. 종료\n"
          ]
        }
      ],
      "source": [
        "# prompt: 계산기 프로그램을 만들어줘\n",
        "\n",
        "def calculator():\n",
        "    \"\"\"계산기 프로그램입니다.\"\"\"\n",
        "\n",
        "    while True:\n",
        "        print(\"\\n다음 연산 중 하나를 선택하세요:\")\n",
        "        print(\"1. 덧셈 (+)\")\n",
        "        print(\"2. 뺄셈 (-)\")\n",
        "        print(\"3. 곱셈 (*)\")\n",
        "        print(\"4. 나눗셈 (/)\")\n",
        "        print(\"5. 나머지 (%)\")\n",
        "        print(\"6. 거듭제곱 (**)\")\n",
        "        print(\"7. 종료\")\n",
        "\n",
        "        choice = input(\"선택 (1/2/3/4/5/6/7): \")\n",
        "\n",
        "        if choice == '7':\n",
        "            print(\"계산기를 종료합니다.\")\n",
        "            break\n",
        "\n",
        "        if choice in ('1', '2', '3', '4', '5', '6'):\n",
        "            try:\n",
        "                num1 = float(input(\"첫 번째 숫자를 입력하세요: \"))\n",
        "                num2 = float(input(\"두 번째 숫자를 입력하세요: \"))\n",
        "            except ValueError:\n",
        "                print(\"잘못된 입력입니다. 숫자를 입력하세요.\")\n",
        "                continue\n",
        "\n",
        "            if choice == '1':\n",
        "                print(num1, \"+\", num2, \"=\", num1 + num2)\n",
        "            elif choice == '2':\n",
        "                print(num1, \"-\", num2, \"=\", num1 - num2)\n",
        "            elif choice == '3':\n",
        "                print(num1, \"*\", num2, \"=\", num1 * num2)\n",
        "            elif choice == '4':\n",
        "                if num2 == 0:\n",
        "                    print(\"0으로 나눌 수 없습니다.\")\n",
        "                else:\n",
        "                    print(num1, \"/\", num2, \"=\", num1 / num2)\n",
        "            elif choice == '5':\n",
        "                print(num1, \"%\", num2, \"=\", num1 % num2)\n",
        "            elif choice == '6':\n",
        "                print(num1, \"**\", num2, \"=\", num1 ** num2)\n",
        "        else:\n",
        "            print(\"잘못된 선택입니다. 다시 선택해주세요.\")\n",
        "\n",
        "if __name__ == \"__main__\":\n",
        "    calculator()\n"
      ]
    }
  ]
}